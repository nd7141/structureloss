{
 "cells": [
  {
   "cell_type": "code",
   "execution_count": 1,
   "id": "d6599c1c",
   "metadata": {
    "ExecuteTime": {
     "end_time": "2021-11-03T15:08:01.697857Z",
     "start_time": "2021-11-03T15:08:01.690857Z"
    }
   },
   "outputs": [
    {
     "data": {
      "text/html": [
       "<style>.container { width:100% !important; }</style>"
      ],
      "text/plain": [
       "<IPython.core.display.HTML object>"
      ]
     },
     "metadata": {},
     "output_type": "display_data"
    }
   ],
   "source": [
    "from IPython.core.display import display, HTML\n",
    "display(HTML(\"<style>.container { width:100% !important; }</style>\"))"
   ]
  },
  {
   "cell_type": "code",
   "execution_count": 2,
   "id": "9264b1ed",
   "metadata": {
    "ExecuteTime": {
     "end_time": "2021-11-03T15:08:10.690066Z",
     "start_time": "2021-11-03T15:08:02.140317Z"
    }
   },
   "outputs": [
    {
     "name": "stderr",
     "output_type": "stream",
     "text": [
      "Using backend: pytorch\n"
     ]
    }
   ],
   "source": [
    "import numpy as np\n",
    "import pandas as pd\n",
    "import torch\n",
    "from rdkit import Chem\n",
    "from dgllife.utils import smiles_to_complete_graph\n",
    "from functools import partial\n",
    "from tdc.multi_pred import DTI\n",
    "from collections import defaultdict as ddict\n",
    "import os "
   ]
  },
  {
   "cell_type": "code",
   "execution_count": 31,
   "id": "4dbedb56",
   "metadata": {
    "ExecuteTime": {
     "end_time": "2021-11-03T15:22:17.989464Z",
     "start_time": "2021-11-03T15:21:33.614710Z"
    }
   },
   "outputs": [
    {
     "name": "stderr",
     "output_type": "stream",
     "text": [
      "Downloading...\n",
      "100%|██████████| 839M/839M [00:29<00:00, 28.0MiB/s] \n",
      "Loading...\n",
      "Done!\n",
      "To log space...\n"
     ]
    },
    {
     "data": {
      "image/png": "[encoded data removed]",
      "text/plain": [
       "<Figure size 432x288 with 2 Axes>"
      ]
     },
     "metadata": {
      "needs_background": "light"
     },
     "output_type": "display_data"
    }
   ],
   "source": [
    "# Data: https://tdcommons.ai/multi_pred_tasks/dti/\n",
    "\n",
    "data_suffix = 'IC50'\n",
    "data = DTI(name = f'BindingDB_{data_suffix}')\n",
    "os.makedirs(f'BindingDB_{data_suffix}', exist_ok=True)\n",
    "data.convert_to_log()\n",
    "data.label_distribution()"
   ]
  },
  {
   "cell_type": "code",
   "execution_count": 32,
   "id": "04470b83",
   "metadata": {
    "ExecuteTime": {
     "end_time": "2021-11-03T15:24:31.540095Z",
     "start_time": "2021-11-03T15:24:31.179613Z"
    }
   },
   "outputs": [],
   "source": [
    "a = data.get_data()\n",
    "if data_suffix == 'Kd':\n",
    "    a = a[a['Y'] < 10]\n",
    "elif data_suffix == 'Ki':\n",
    "    a = a[a['Y'] < 6]\n",
    "elif data_suffix == 'IC50':\n",
    "    a = a[a['Y'] < 2.5]\n",
    "a['Y_Target'] = a[['Y', 'Target']].values.tolist()"
   ]
  },
  {
   "cell_type": "code",
   "execution_count": 34,
   "id": "3c0f8021",
   "metadata": {
    "ExecuteTime": {
     "end_time": "2021-11-03T15:25:53.890860Z",
     "start_time": "2021-11-03T15:24:39.785229Z"
    }
   },
   "outputs": [],
   "source": [
    "b = a[['Drug', 'Y_Target']].groupby('Drug').apply(min).reset_index(drop=True)\n",
    "b[['Y', 'Target']] = b['Y_Target'].values.tolist()\n",
    "\n",
    "targets = b['Target'].unique().tolist()\n",
    "target2idx = dict(zip(targets, range(len(targets))))\n",
    "idx2target = {idx: target for target, idx in target2idx.items()}\n",
    "b['Target_idx'] = b['Target'].apply(lambda x: target2idx[x])"
   ]
  },
  {
   "cell_type": "code",
   "execution_count": 35,
   "id": "be778f14",
   "metadata": {
    "ExecuteTime": {
     "end_time": "2021-11-03T15:25:53.932221Z",
     "start_time": "2021-11-03T15:25:53.892565Z"
    }
   },
   "outputs": [],
   "source": [
    "c = b['Target_idx'].value_counts().reset_index()\n",
    "\n",
    "max_graphs_per_class = 100\n",
    "min_graphs_per_class = 10\n",
    "\n",
    "classes = c[c['Target_idx'] <= max_graphs_per_class][c['Target_idx'] >= min_graphs_per_class]['index'].tolist()\n",
    "dataset = b[b['Target_idx'].isin(classes)]"
   ]
  },
  {
   "cell_type": "code",
   "execution_count": 37,
   "id": "b03678e1",
   "metadata": {
    "ExecuteTime": {
     "end_time": "2021-11-03T15:26:08.049539Z",
     "start_time": "2021-11-03T15:26:08.047000Z"
    }
   },
   "outputs": [],
   "source": [
    "np.random.shuffle(classes)\n",
    "\n",
    "N = len(classes)\n",
    "pos_classes = classes[:int(N*.9)]\n",
    "neg_classes = classes[int(N*.9):]"
   ]
  },
  {
   "cell_type": "code",
   "execution_count": 38,
   "id": "7b2260ae",
   "metadata": {
    "ExecuteTime": {
     "end_time": "2021-11-03T15:26:08.487634Z",
     "start_time": "2021-11-03T15:26:08.482366Z"
    }
   },
   "outputs": [],
   "source": [
    "train_graphs = dataset[dataset['Target_idx'].isin(pos_classes)]"
   ]
  },
  {
   "cell_type": "code",
   "execution_count": 39,
   "id": "29f7f5f9",
   "metadata": {
    "ExecuteTime": {
     "end_time": "2021-11-03T15:26:10.760984Z",
     "start_time": "2021-11-03T15:26:10.743364Z"
    }
   },
   "outputs": [],
   "source": [
    "n_pos_in_test = 1800\n",
    "idxs = list(range(train_graphs.shape[0]))\n",
    "np.random.shuffle(idxs)\n",
    "train_dataset = train_graphs.iloc[idxs[:-n_pos_in_test]]\n",
    "test_pos_graphs = train_graphs.iloc[idxs[-n_pos_in_test:]]"
   ]
  },
  {
   "cell_type": "code",
   "execution_count": 40,
   "id": "d6c0708d",
   "metadata": {
    "ExecuteTime": {
     "end_time": "2021-11-03T15:26:11.251539Z",
     "start_time": "2021-11-03T15:26:11.201186Z"
    }
   },
   "outputs": [],
   "source": [
    "train_dataset = train_dataset[['Drug', 'Target_idx']].reset_index(drop=True)\n",
    "train_dataset.columns = ['pos', 'class']\n",
    "train_dataset.to_csv(f'BindingDB_{data_suffix}/train.csv', index=False)"
   ]
  },
  {
   "cell_type": "code",
   "execution_count": 41,
   "id": "55d2d80c",
   "metadata": {
    "ExecuteTime": {
     "end_time": "2021-11-03T15:26:12.746383Z",
     "start_time": "2021-11-03T15:26:12.743002Z"
    }
   },
   "outputs": [],
   "source": [
    "test_neg_graphs = dataset[dataset['Target_idx'].isin(neg_classes)]"
   ]
  },
  {
   "cell_type": "code",
   "execution_count": 42,
   "id": "e32a1088",
   "metadata": {
    "ExecuteTime": {
     "end_time": "2021-11-03T15:26:13.603102Z",
     "start_time": "2021-11-03T15:26:13.597291Z"
    }
   },
   "outputs": [],
   "source": [
    "class2graphs = ddict(list)\n",
    "for row in test_neg_graphs[['Target_idx', 'Drug']].values.tolist():\n",
    "    class2graphs[row[0]].append(row[1])"
   ]
  },
  {
   "cell_type": "code",
   "execution_count": 43,
   "id": "631dced9",
   "metadata": {
    "ExecuteTime": {
     "end_time": "2021-11-03T15:26:17.624198Z",
     "start_time": "2021-11-03T15:26:17.577177Z"
    }
   },
   "outputs": [],
   "source": [
    "num_pairs_for_each_class = 10\n",
    "neg_pairs_true = []\n",
    "neg_df = pd.DataFrame()\n",
    "for key in class2graphs:\n",
    "    neg_df = neg_df.append(pd.DataFrame(np.random.choice(class2graphs[key], size=(num_pairs_for_each_class, 2))))\n",
    "\n",
    "neg_df.columns = ['neg', 'pos']\n",
    "neg_df['class'] = 1"
   ]
  },
  {
   "cell_type": "code",
   "execution_count": 45,
   "id": "60e3f893",
   "metadata": {
    "ExecuteTime": {
     "end_time": "2021-11-03T15:26:29.860161Z",
     "start_time": "2021-11-03T15:26:29.848023Z"
    }
   },
   "outputs": [
    {
     "data": {
      "text/html": [
       "<div>\n",
       "<style scoped>\n",
       "    .dataframe tbody tr th:only-of-type {\n",
       "        vertical-align: middle;\n",
       "    }\n",
       "\n",
       "    .dataframe tbody tr th {\n",
       "        vertical-align: top;\n",
       "    }\n",
       "\n",
       "    .dataframe thead th {\n",
       "        text-align: right;\n",
       "    }\n",
       "</style>\n",
       "<table border=\"1\" class=\"dataframe\">\n",
       "  <thead>\n",
       "    <tr style=\"text-align: right;\">\n",
       "      <th></th>\n",
       "      <th>neg</th>\n",
       "      <th>pos</th>\n",
       "      <th>class</th>\n",
       "    </tr>\n",
       "  </thead>\n",
       "  <tbody>\n",
       "    <tr>\n",
       "      <th>0</th>\n",
       "      <td>CC(=O)NCCc1cccc2ccc3occc3c12</td>\n",
       "      <td>COc1ccc2c(c1)[C@]1(C[C@H]1c1ccc3c(/C=C/c4ccc(N...</td>\n",
       "      <td>0</td>\n",
       "    </tr>\n",
       "    <tr>\n",
       "      <th>1</th>\n",
       "      <td>O=C(O)C1CCN(C(=O)/C=C/c2ccc(Sc3ccc4c(c3)OCCO4)...</td>\n",
       "      <td>COc1cc(NC(=S)NCCCn2cncc2C)ccc1OCCCCNc1ncccn1</td>\n",
       "      <td>0</td>\n",
       "    </tr>\n",
       "    <tr>\n",
       "      <th>2</th>\n",
       "      <td>Cc1nc2c(c(-c3ccn[nH]3)n1)C[C@@H](C)N(C(=O)c1cc...</td>\n",
       "      <td>C=CC(=O)Nc1ccccc1Oc1nc(Nc2cnn(CCOC)c2)ncc1Cl</td>\n",
       "      <td>0</td>\n",
       "    </tr>\n",
       "    <tr>\n",
       "      <th>3</th>\n",
       "      <td>O=P(O)(O)C(Nc1cc(-c2ccc(OC3CC3)cc2)ccn1)P(=O)(O)O</td>\n",
       "      <td>CCCC[C@@H]1NC(=O)CC[C@@H](C(N)=O)NC(=O)[C@H](C...</td>\n",
       "      <td>0</td>\n",
       "    </tr>\n",
       "    <tr>\n",
       "      <th>4</th>\n",
       "      <td>Cc1ccc2c(OCC(=O)N3CCC[C@H]3C(=O)NC3CCC3)cc(C(=...</td>\n",
       "      <td>NS(=O)(=O)CCNC(=O)C(c1nc2ccc(-c3ccccc3)cc2s1)S...</td>\n",
       "      <td>0</td>\n",
       "    </tr>\n",
       "    <tr>\n",
       "      <th>...</th>\n",
       "      <td>...</td>\n",
       "      <td>...</td>\n",
       "      <td>...</td>\n",
       "    </tr>\n",
       "    <tr>\n",
       "      <th>615</th>\n",
       "      <td>O=C(c1cccc(C(F)(F)F)c1Cl)N1[C@H]2CCC[C@@H]1c1n...</td>\n",
       "      <td>CC(C)c1nc(-c2nnc3n2CCN(C(=O)c2ccc(-c4cccs4)cc2...</td>\n",
       "      <td>0</td>\n",
       "    </tr>\n",
       "    <tr>\n",
       "      <th>616</th>\n",
       "      <td>O=C(Nc1cc2ccccc2cc1Oc1ccc(C(=O)O)c(C(=O)O)c1)c...</td>\n",
       "      <td>O=c1[nH]c2c(O)ccc([C@@H](O)CNCCCSCCOCCc3ccccc3...</td>\n",
       "      <td>0</td>\n",
       "    </tr>\n",
       "    <tr>\n",
       "      <th>617</th>\n",
       "      <td>CCOC1CCN(Cc2c(OC)cc(C)c3[nH]ccc23)C(c2ccc(C(=O...</td>\n",
       "      <td>O=C(NC1COP(=O)(CCCCC2(C(=O)NCC(F)(F)F)c3ccccc3...</td>\n",
       "      <td>0</td>\n",
       "    </tr>\n",
       "    <tr>\n",
       "      <th>618</th>\n",
       "      <td>CNC(=O)N1CCc2c(c(Nc3cc(C(F)F)c(-c4cnn(C)c4)cc3...</td>\n",
       "      <td>COc1ccc(-c2cc(=O)c3cc(OC)c4c(OC)ccc(OC)c4c3o2)cc1</td>\n",
       "      <td>0</td>\n",
       "    </tr>\n",
       "    <tr>\n",
       "      <th>619</th>\n",
       "      <td>CC(=O)N1CCN(c2ccc(CCc3ccc(CNC(=O)NN)cc3F)nc2)CC1</td>\n",
       "      <td>CSc1ccccc1Nc1nc(N2CCC(CN)CC2)nc2c(NCC3CC3)ncnc12</td>\n",
       "      <td>0</td>\n",
       "    </tr>\n",
       "  </tbody>\n",
       "</table>\n",
       "<p>620 rows × 3 columns</p>\n",
       "</div>"
      ],
      "text/plain": [
       "                                                   neg  \\\n",
       "0                         CC(=O)NCCc1cccc2ccc3occc3c12   \n",
       "1    O=C(O)C1CCN(C(=O)/C=C/c2ccc(Sc3ccc4c(c3)OCCO4)...   \n",
       "2    Cc1nc2c(c(-c3ccn[nH]3)n1)C[C@@H](C)N(C(=O)c1cc...   \n",
       "3    O=P(O)(O)C(Nc1cc(-c2ccc(OC3CC3)cc2)ccn1)P(=O)(O)O   \n",
       "4    Cc1ccc2c(OCC(=O)N3CCC[C@H]3C(=O)NC3CCC3)cc(C(=...   \n",
       "..                                                 ...   \n",
       "615  O=C(c1cccc(C(F)(F)F)c1Cl)N1[C@H]2CCC[C@@H]1c1n...   \n",
       "616  O=C(Nc1cc2ccccc2cc1Oc1ccc(C(=O)O)c(C(=O)O)c1)c...   \n",
       "617  CCOC1CCN(Cc2c(OC)cc(C)c3[nH]ccc23)C(c2ccc(C(=O...   \n",
       "618  CNC(=O)N1CCc2c(c(Nc3cc(C(F)F)c(-c4cnn(C)c4)cc3...   \n",
       "619   CC(=O)N1CCN(c2ccc(CCc3ccc(CNC(=O)NN)cc3F)nc2)CC1   \n",
       "\n",
       "                                                   pos  class  \n",
       "0    COc1ccc2c(c1)[C@]1(C[C@H]1c1ccc3c(/C=C/c4ccc(N...      0  \n",
       "1         COc1cc(NC(=S)NCCCn2cncc2C)ccc1OCCCCNc1ncccn1      0  \n",
       "2         C=CC(=O)Nc1ccccc1Oc1nc(Nc2cnn(CCOC)c2)ncc1Cl      0  \n",
       "3    CCCC[C@@H]1NC(=O)CC[C@@H](C(N)=O)NC(=O)[C@H](C...      0  \n",
       "4    NS(=O)(=O)CCNC(=O)C(c1nc2ccc(-c3ccccc3)cc2s1)S...      0  \n",
       "..                                                 ...    ...  \n",
       "615  CC(C)c1nc(-c2nnc3n2CCN(C(=O)c2ccc(-c4cccs4)cc2...      0  \n",
       "616  O=c1[nH]c2c(O)ccc([C@@H](O)CNCCCSCCOCCc3ccccc3...      0  \n",
       "617  O=C(NC1COP(=O)(CCCCC2(C(=O)NCC(F)(F)F)c3ccccc3...      0  \n",
       "618  COc1ccc(-c2cc(=O)c3cc(OC)c4c(OC)ccc(OC)c4c3o2)cc1      0  \n",
       "619   CSc1ccccc1Nc1nc(N2CCC(CN)CC2)nc2c(NCC3CC3)ncnc12      0  \n",
       "\n",
       "[620 rows x 3 columns]"
      ]
     },
     "execution_count": 45,
     "metadata": {},
     "output_type": "execute_result"
    }
   ],
   "source": [
    "df = pd.DataFrame()\n",
    "df['neg'] = test_neg_graphs.sample(620)['Drug'].reset_index(drop=True)\n",
    "df['pos'] = train_graphs.sample(620)['Drug'].reset_index(drop=True)\n",
    "df['class'] = 0\n",
    "df"
   ]
  },
  {
   "cell_type": "code",
   "execution_count": 46,
   "id": "232f3266",
   "metadata": {
    "ExecuteTime": {
     "end_time": "2021-11-03T15:26:30.890756Z",
     "start_time": "2021-11-03T15:26:30.880341Z"
    }
   },
   "outputs": [],
   "source": [
    "test_dataset = df.append(neg_df)\n",
    "os.makedirs(f'BindingDB_{data_suffix}', exist_ok=True)\n",
    "test_dataset.to_csv(f'BindingDB_{data_suffix}/test.csv', index=False)"
   ]
  },
  {
   "cell_type": "code",
   "execution_count": null,
   "id": "b0d1ff29",
   "metadata": {},
   "outputs": [],
   "source": []
  }
 ],
 "metadata": {
  "hide_input": false,
  "kernelspec": {
   "display_name": "DEFAULT",
   "language": "python",
   "name": "default"
  },
  "language_info": {
   "codemirror_mode": {
    "name": "ipython",
    "version": 3
   },
   "file_extension": ".py",
   "mimetype": "text/x-python",
   "name": "python",
   "nbconvert_exporter": "python",
   "pygments_lexer": "ipython3",
   "version": "3.6.10"
  },
  "toc": {
   "base_numbering": 1,
   "nav_menu": {},
   "number_sections": true,
   "sideBar": true,
   "skip_h1_title": false,
   "title_cell": "Table of Contents",
   "title_sidebar": "Contents",
   "toc_cell": false,
   "toc_position": {},
   "toc_section_display": true,
   "toc_window_display": false
  }
 },
 "nbformat": 4,
 "nbformat_minor": 5
}
